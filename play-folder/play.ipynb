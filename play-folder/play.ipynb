{
 "cells": [
  {
   "cell_type": "code",
   "execution_count": 27,
   "metadata": {},
   "outputs": [],
   "source": [
    "import time\n",
    "from datetime import timedelta, date, datetime"
   ]
  },
  {
   "cell_type": "code",
   "execution_count": 25,
   "metadata": {},
   "outputs": [
    {
     "name": "stdout",
     "output_type": "stream",
     "text": [
      "Abhi\n"
     ]
    }
   ],
   "source": [
    "def dbexecute(**kwargs):\n",
    "    if 'title' in kwargs:\n",
    "        print(kwargs['title'])\n",
    "    if 'print' in kwargs:\n",
    "        print(kwargs['print'])\n",
    "    if 'execute' in kwargs:\n",
    "        if 'args' in kwargs:\n",
    "            kwargs['execute'](kwargs['args'])\n",
    "        else:\n",
    "            kwargs['execute']()\n",
    "\n",
    "# dbexecute(title=\"yes\",print='Print this',execute=print,args=('Abhi'))\n",
    "\n",
    "dbexecute(execute=print,args=('Abhi'))"
   ]
  },
  {
   "cell_type": "code",
   "execution_count": 84,
   "metadata": {},
   "outputs": [],
   "source": [
    "class debugger():\n",
    "    '''\n",
    "    debugger class\n",
    "    functionality:\n",
    "    execute: print and/or execute set of statements\n",
    "        while in debugger mode.\n",
    "        Do nothing otherwise.\n",
    "    '''\n",
    "    def __init__(self,name=None,is_debugging = False) -> None:\n",
    "        self.name = 'debugger'\n",
    "        if name:\n",
    "            self.name=name\n",
    "        self._is_debugging = is_debugging\n",
    "\n",
    "    def set_debugging_status(self,debugging_status=False):\n",
    "        '''\n",
    "        Set debugging status as per received argument\n",
    "        '''\n",
    "        self._is_debugging = debugging_status\n",
    "\n",
    "    def debugging_on(self):\n",
    "        '''\n",
    "        Set debugging to ON\n",
    "        '''\n",
    "        self.set_debugging_status(True)\n",
    "\n",
    "    def debugging_off(self):\n",
    "        '''\n",
    "        Set debugging to OFF\n",
    "        '''\n",
    "        self.set_debugging_status(False)\n",
    "\n",
    "    def execute(self,print_signature=False,\n",
    "                print_name=False,\n",
    "                print_timestamp=False,\n",
    "                **kwargs):\n",
    "        '''\n",
    "        print and/or execute set of command(s) when in debugger mode.\n",
    "        Do nothing otherwise.\n",
    "        title: title of current execution\n",
    "        print: argument to be printed\n",
    "        execute: function to be executed\n",
    "        args: arguments to functions to be executed\n",
    "        print_signature: print name of debugger and timestamp\n",
    "        '''\n",
    "        if self._is_debugging:\n",
    "            if 'title' in kwargs:\n",
    "                print(f'''{kwargs['title']}:''')\n",
    "            if 'print' in kwargs:\n",
    "                print(kwargs['print'])\n",
    "            if 'execute' in kwargs:\n",
    "                if 'args' in kwargs:\n",
    "                    if (type(kwargs['args']) is list) or (type(kwargs['args']) is tuple):\n",
    "                        kwargs['execute'](*kwargs['args'])\n",
    "                    else:\n",
    "                        kwargs['execute'](kwargs['args'])\n",
    "                else:\n",
    "                    kwargs['execute']()\n",
    "            if print_name:\n",
    "                print(\"By:\\t\", self.name)\n",
    "\n",
    "            if print_timestamp:\n",
    "                print(\"@:\\t\",datetime.now())\n",
    "                print(\"Getting printed\")\n",
    "\n",
    "            if print_signature:\n",
    "                print(\"By:\\t\", self.name)\n",
    "                print(\"@:\\t\",datetime.now())"
   ]
  },
  {
   "cell_type": "code",
   "execution_count": 85,
   "metadata": {},
   "outputs": [
    {
     "name": "stdout",
     "output_type": "stream",
     "text": [
      "Class Action:\n",
      "Now in action\n",
      "10\n",
      "By:\t Sample Debugger\n",
      "@:\t 2023-03-16 19:41:10.841680\n"
     ]
    }
   ],
   "source": [
    "dbug = debugger(name='Sample Debugger')\n",
    "dbug.debugging_on()\n",
    "dbug.execute(print='Now in action',title=\"Class Action\",print_signature=True,execute=multiply_by_5,args=2)\n"
   ]
  },
  {
   "cell_type": "code",
   "execution_count": 65,
   "metadata": {},
   "outputs": [],
   "source": [
    "def multiply(a,b):\n",
    "    print(a*b)\n",
    "\n",
    "def multiply_by_5(a):\n",
    "    print(a*5)"
   ]
  },
  {
   "cell_type": "code",
   "execution_count": 67,
   "metadata": {},
   "outputs": [
    {
     "name": "stdout",
     "output_type": "stream",
     "text": [
      "25\n"
     ]
    }
   ],
   "source": [
    "multiply_by_5(5)"
   ]
  },
  {
   "cell_type": "code",
   "execution_count": 71,
   "metadata": {},
   "outputs": [
    {
     "name": "stdout",
     "output_type": "stream",
     "text": [
      "25\n"
     ]
    }
   ],
   "source": [
    "m = multiply_by_5\n",
    "a = (5,)\n",
    "\n",
    "m(*a)"
   ]
  },
  {
   "cell_type": "code",
   "execution_count": 72,
   "metadata": {},
   "outputs": [
    {
     "data": {
      "text/plain": [
       "tuple"
      ]
     },
     "execution_count": 72,
     "metadata": {},
     "output_type": "execute_result"
    }
   ],
   "source": [
    "type(a)"
   ]
  },
  {
   "cell_type": "code",
   "execution_count": 96,
   "metadata": {},
   "outputs": [],
   "source": [
    "def to_currency (value, multiplier=100, add_currency_symbol=True, currency_symbol = '₹',rounding=0):\n",
    "    negative_sign = \"\"\n",
    "    if value < 0:\n",
    "        negative_sign = \"-\"\n",
    "        value = abs(value)\n",
    "    value = round(value,rounding)\n",
    "    decimal_value = round(value%1,rounding)\n",
    "    value = int(round((value-decimal_value),0))\n",
    "    if decimal_value == 0:\n",
    "        currency_string = \"\" \n",
    "    else:\n",
    "        currency_string = \".\" + str(decimal_value)[2:]\n",
    "    base = 1_000\n",
    "    set = value%base\n",
    "    currency_string = str(int(round(set,0))) + currency_string\n",
    "    if (len(str(set)) < len(str(value))) & (len(str(set)) < len(str(base))-1):\n",
    "        zeros = \"\".join(['0' for _ in range(len(str(base))-1-len(str(set)))])\n",
    "        currency_string = zeros + currency_string\n",
    "        \n",
    "    converted_value = set\n",
    "    if set == value:\n",
    "        if add_currency_symbol:\n",
    "            return (currency_symbol + \" \" + negative_sign + currency_string).strip()\n",
    "        else: \n",
    "            return (negative_sign + currency_string).strip()\n",
    "    else:\n",
    "        while converted_value != value:\n",
    "            base = base * multiplier\n",
    "            set = int(round((value%base - converted_value)/base * multiplier,0))\n",
    "            currency_string = str(int(set)) + \",\" + currency_string\n",
    "            if (len(str(int(round(set*base/multiplier,0)))) < len(str(value))) & (len(str(set)) < len(str(multiplier))-1):\n",
    "                zeros = \"\".join(['0' for _ in range(len(str(multiplier))-1-len(str(set)))])\n",
    "                currency_string = zeros + currency_string\n",
    "            converted_value = int(round(converted_value + (set*base/multiplier),0))\n",
    "\n",
    "    if add_currency_symbol:\n",
    "        return (currency_symbol + \" \" + negative_sign + currency_string).strip()\n",
    "    else: \n",
    "        return (negative_sign + currency_string).strip"
   ]
  },
  {
   "cell_type": "code",
   "execution_count": 99,
   "metadata": {},
   "outputs": [
    {
     "data": {
      "text/plain": [
       "'₹ 100'"
      ]
     },
     "execution_count": 99,
     "metadata": {},
     "output_type": "execute_result"
    }
   ],
   "source": [
    "to_currency(100.3452, multiplier=1000)"
   ]
  },
  {
   "cell_type": "code",
   "execution_count": null,
   "metadata": {},
   "outputs": [],
   "source": []
  }
 ],
 "metadata": {
  "kernelspec": {
   "display_name": "Python 3",
   "language": "python",
   "name": "python3"
  },
  "language_info": {
   "codemirror_mode": {
    "name": "ipython",
    "version": 3
   },
   "file_extension": ".py",
   "mimetype": "text/x-python",
   "name": "python",
   "nbconvert_exporter": "python",
   "pygments_lexer": "ipython3",
   "version": "3.11.0"
  },
  "orig_nbformat": 4
 },
 "nbformat": 4,
 "nbformat_minor": 2
}
